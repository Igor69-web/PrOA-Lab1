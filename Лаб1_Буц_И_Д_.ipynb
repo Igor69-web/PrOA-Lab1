{
  "nbformat": 4,
  "nbformat_minor": 0,
  "metadata": {
    "colab": {
      "name": "Лаб1.Буц_И.Д.",
      "provenance": [],
      "authorship_tag": "ABX9TyMEr4lbQ57xDAeD69R8UdAR",
      "include_colab_link": true
    },
    "kernelspec": {
      "name": "python3",
      "display_name": "Python 3"
    },
    "language_info": {
      "name": "python"
    }
  },
  "cells": [
    {
      "cell_type": "markdown",
      "metadata": {
        "id": "view-in-github",
        "colab_type": "text"
      },
      "source": [
        "<a href=\"https://colab.research.google.com/github/Igor69-web/PrOA-Lab1/blob/main/%D0%9B%D0%B0%D0%B11_%D0%91%D1%83%D1%86_%D0%98_%D0%94_.ipynb\" target=\"_parent\"><img src=\"https://colab.research.google.com/assets/colab-badge.svg\" alt=\"Open In Colab\"/></a>"
      ]
    },
    {
      "cell_type": "markdown",
      "source": [
        "Задание 1.1"
      ],
      "metadata": {
        "id": "-aNWtB2Hx3gu"
      }
    },
    {
      "cell_type": "code",
      "execution_count": null,
      "metadata": {
        "colab": {
          "base_uri": "https://localhost:8080/"
        },
        "id": "FB-jWi9JxwkB",
        "outputId": "3c00ae02-7c5a-459c-a51c-b773454d04a1"
      },
      "outputs": [
        {
          "output_type": "stream",
          "name": "stdout",
          "text": [
            "n=5\n",
            "[0. 0. 0. 0. 0.]\n"
          ]
        }
      ],
      "source": [
        "import numpy as np\n",
        "n = int(input(\"n=\"))\n",
        "z = np.zeros(n)\n",
        "print(z)\n"
      ]
    },
    {
      "cell_type": "markdown",
      "source": [
        "Задание 1.2"
      ],
      "metadata": {
        "id": "uQpU2M1R2wj9"
      }
    },
    {
      "cell_type": "code",
      "source": [
        "import numpy as np\n",
        "a = np.zeros((10,10))\n",
        "z= a.size*a.itemsize\n",
        "print(z)\n",
        "b = np.array([1,2,3],dtype = np.float64)\n",
        "v = b.size*b.itemsize\n",
        "print(v)"
      ],
      "metadata": {
        "colab": {
          "base_uri": "https://localhost:8080/"
        },
        "id": "BQ9YVZKG2waL",
        "outputId": "6f08c155-723b-4509-a29f-db0954127a82"
      },
      "execution_count": null,
      "outputs": [
        {
          "output_type": "stream",
          "name": "stdout",
          "text": [
            "800\n",
            "24\n"
          ]
        }
      ]
    },
    {
      "cell_type": "markdown",
      "source": [
        "Задание 1.3"
      ],
      "metadata": {
        "id": "P30Bs5Ao4agH"
      }
    },
    {
      "cell_type": "code",
      "source": [
        "import numpy as np\n",
        "n = int(input(\"n=\"))\n",
        "x = int(input(\"x=\"))\n",
        "z = np.zeros(n)\n",
        "z[x]=1\n",
        "print(z)"
      ],
      "metadata": {
        "colab": {
          "base_uri": "https://localhost:8080/"
        },
        "id": "DaR4TmP04aOF",
        "outputId": "7f1f03a7-ffe2-4f6b-c458-8517b2afb599"
      },
      "execution_count": null,
      "outputs": [
        {
          "output_type": "stream",
          "name": "stdout",
          "text": [
            "n=10\n",
            "x=4\n",
            "[0. 0. 0. 0. 1. 0. 0. 0. 0. 0.]\n"
          ]
        }
      ]
    },
    {
      "cell_type": "markdown",
      "source": [
        "Задание 1.4"
      ],
      "metadata": {
        "id": "BsZhDEv6CsE3"
      }
    },
    {
      "cell_type": "code",
      "source": [
        "import numpy as np\n",
        "n = int(input(\"n=\"))\n",
        "m = int(input(\"m=\"))\n",
        "z = np.arange(n,m+1)\n",
        "print(z)"
      ],
      "metadata": {
        "colab": {
          "base_uri": "https://localhost:8080/"
        },
        "id": "_2u0FFd3Ctfh",
        "outputId": "3df36609-2d49-43de-a3a3-dacf6ca258b3"
      },
      "execution_count": null,
      "outputs": [
        {
          "output_type": "stream",
          "name": "stdout",
          "text": [
            "n=1\n",
            "m=5\n",
            "[1 2 3 4 5]\n"
          ]
        }
      ]
    },
    {
      "cell_type": "markdown",
      "source": [
        "Задание 1.5"
      ],
      "metadata": {
        "id": "vAWaWChNHkJ4"
      }
    },
    {
      "cell_type": "code",
      "source": [
        "import numpy as np\n",
        "z = np.array([1,2,3,4])\n",
        "print(z)\n",
        "reversed_arr = np.flipud(z)\n",
        "print(reversed_arr)"
      ],
      "metadata": {
        "colab": {
          "base_uri": "https://localhost:8080/"
        },
        "id": "N6pyWJDcHoXp",
        "outputId": "dbb64998-f19d-4287-ca09-8510ede3364b"
      },
      "execution_count": 1,
      "outputs": [
        {
          "output_type": "stream",
          "name": "stdout",
          "text": [
            "[1 2 3 4]\n",
            "[4 3 2 1]\n"
          ]
        }
      ]
    },
    {
      "cell_type": "markdown",
      "source": [
        "Задание 1.6"
      ],
      "metadata": {
        "id": "0YpG73SFJL03"
      }
    },
    {
      "cell_type": "code",
      "source": [
        "import numpy as np\n",
        "n = int(input(\"n=\"))\n",
        "m = int(input(\"строк=\"))\n",
        "k = int(input(\"столбцов=\"))\n",
        "z = np.arange(n).reshape(m,k)\n",
        "print(z)\n",
        "\n"
      ],
      "metadata": {
        "colab": {
          "base_uri": "https://localhost:8080/"
        },
        "id": "Sxv1hliqJNsj",
        "outputId": "9355d2c5-3c71-438d-b1fe-b05e8abc195c"
      },
      "execution_count": null,
      "outputs": [
        {
          "output_type": "stream",
          "name": "stdout",
          "text": [
            "n=9\n",
            "строк=3\n",
            "столбцов=3\n",
            "[[0 1 2]\n",
            " [3 4 5]\n",
            " [6 7 8]]\n"
          ]
        }
      ]
    },
    {
      "cell_type": "markdown",
      "source": [
        "Задание 1.7"
      ],
      "metadata": {
        "id": "7AtKLNm3LXeb"
      }
    },
    {
      "cell_type": "code",
      "source": [
        "import numpy as np\n",
        "z = np.array([1,0,2,0,3,0,4])\n",
        "np.nonzero(z)\n"
      ],
      "metadata": {
        "colab": {
          "base_uri": "https://localhost:8080/"
        },
        "id": "-NsCk7gRLZVR",
        "outputId": "6b8b2d1c-7946-4208-8423-ec81498af3b3"
      },
      "execution_count": null,
      "outputs": [
        {
          "output_type": "execute_result",
          "data": {
            "text/plain": [
              "(array([0, 2, 4, 6]),)"
            ]
          },
          "metadata": {},
          "execution_count": 106
        }
      ]
    },
    {
      "cell_type": "markdown",
      "source": [
        "Задание 1.8"
      ],
      "metadata": {
        "id": "luvjcX3JNCW2"
      }
    },
    {
      "cell_type": "code",
      "source": [
        "import numpy as np\n",
        "n = int(input(\"n=\"))\n",
        "z = np.eye(n)\n",
        "print(z)"
      ],
      "metadata": {
        "colab": {
          "base_uri": "https://localhost:8080/"
        },
        "id": "gOo7c_dWND8Z",
        "outputId": "330f84c1-26a0-490d-e773-34a3ec5e2201"
      },
      "execution_count": null,
      "outputs": [
        {
          "output_type": "stream",
          "name": "stdout",
          "text": [
            "n=3\n",
            "[[1. 0. 0.]\n",
            " [0. 1. 0.]\n",
            " [0. 0. 1.]]\n"
          ]
        }
      ]
    },
    {
      "cell_type": "markdown",
      "source": [
        "Задаие 1.9"
      ],
      "metadata": {
        "id": "bcpMJtPgNkIm"
      }
    },
    {
      "cell_type": "code",
      "source": [
        "import numpy as np\n",
        "n = int(input(\"n=\"))\n",
        "m = int(input(\"m=\"))\n",
        "l = int(input(\"l=\"))\n",
        "np.random.seed(42)\n",
        "z = np.array(n*m*l)\n",
        "np.random.rand(z).reshape(4,2)\n"
      ],
      "metadata": {
        "colab": {
          "base_uri": "https://localhost:8080/"
        },
        "id": "mwKOoiJ6Nlt5",
        "outputId": "cd3d74d0-0b7e-4c7c-c812-35df48d3d5ff"
      },
      "execution_count": null,
      "outputs": [
        {
          "name": "stdout",
          "output_type": "stream",
          "text": [
            "n=2\n",
            "m=2\n",
            "l=2\n"
          ]
        },
        {
          "output_type": "execute_result",
          "data": {
            "text/plain": [
              "array([[0.37454012, 0.95071431],\n",
              "       [0.73199394, 0.59865848],\n",
              "       [0.15601864, 0.15599452],\n",
              "       [0.05808361, 0.86617615]])"
            ]
          },
          "metadata": {},
          "execution_count": 110
        }
      ]
    },
    {
      "cell_type": "markdown",
      "source": [
        "Задание 1.10"
      ],
      "metadata": {
        "id": "SOozV2dwPTVi"
      }
    },
    {
      "cell_type": "code",
      "source": [
        "import numpy as np\n",
        "n = int(input(\"n=\"))\n",
        "m = int(input(\"m=\"))\n",
        "np.random.seed(42)\n",
        "z = np.random.rand(m*n)\n",
        "max = np.max(z)\n",
        "min = np.min(z)\n",
        "print(max,'\\n',min)"
      ],
      "metadata": {
        "colab": {
          "base_uri": "https://localhost:8080/"
        },
        "id": "jIAWoYwjPVKr",
        "outputId": "793062ec-146e-46bb-f8cd-8637d009e979"
      },
      "execution_count": null,
      "outputs": [
        {
          "output_type": "stream",
          "name": "stdout",
          "text": [
            "n=10\n",
            "m=10\n",
            "0.9868869366005173 \n",
            " 0.005522117123602399\n"
          ]
        }
      ]
    },
    {
      "cell_type": "markdown",
      "source": [
        "Задание 1.11"
      ],
      "metadata": {
        "id": "hOvYgXNMTM19"
      }
    },
    {
      "cell_type": "code",
      "source": [
        "import numpy as np\n",
        "n = int(input(\"n=\"))\n",
        "m = int(input(\"m=\"))\n",
        "np.random.seed(42)\n",
        "z = np.random.rand(m*n)\n",
        "b = np.mean(z)\n",
        "print(b)"
      ],
      "metadata": {
        "colab": {
          "base_uri": "https://localhost:8080/"
        },
        "id": "G8_5N0NwTOrz",
        "outputId": "861be4ee-6a05-42b8-fe83-5e238074668f"
      },
      "execution_count": null,
      "outputs": [
        {
          "output_type": "stream",
          "name": "stdout",
          "text": [
            "n=12\n",
            "m=6\n",
            "0.46798212705144554\n"
          ]
        }
      ]
    },
    {
      "cell_type": "markdown",
      "source": [
        "Задание 1.12"
      ],
      "metadata": {
        "id": "XJyZyfpKWo1R"
      }
    },
    {
      "cell_type": "code",
      "source": [
        "import numpy as np\n",
        "A = np.array([1.5, 2.5, 3.5])\n",
        "B = np.array([4, 5, 6])\n",
        "np.dot(A, B, out=None)"
      ],
      "metadata": {
        "colab": {
          "base_uri": "https://localhost:8080/"
        },
        "id": "b6N5tukxWqTV",
        "outputId": "9da9f3fe-02cc-4168-cdf3-901ae43d4b89"
      },
      "execution_count": null,
      "outputs": [
        {
          "output_type": "execute_result",
          "data": {
            "text/plain": [
              "39.5"
            ]
          },
          "metadata": {},
          "execution_count": 19
        }
      ]
    },
    {
      "cell_type": "markdown",
      "source": [
        "Задание 1.13"
      ],
      "metadata": {
        "id": "stXjZ-bqa63b"
      }
    },
    {
      "cell_type": "code",
      "source": [
        "import numpy as np\n",
        "A = np.array([\n",
        " [1, 2, 3],\n",
        " [4, 5, 6]\n",
        "])\n",
        "B = np.array([\n",
        " [11.5],\n",
        " [12.5],\n",
        " [13.5]\n",
        "])\n",
        "Z = np.dot(A,B)\n",
        "if Z == True:\n",
        "    print(Z)\n",
        "else:\n",
        "    print(\"Упс! Что-то пошло не так...\")\n"
      ],
      "metadata": {
        "colab": {
          "base_uri": "https://localhost:8080/",
          "height": 234
        },
        "id": "LSQyYBrObCuF",
        "outputId": "a6555a67-bc79-4ad0-fbbf-d4506dee541e"
      },
      "execution_count": null,
      "outputs": [
        {
          "output_type": "error",
          "ename": "ValueError",
          "evalue": "ignored",
          "traceback": [
            "\u001b[0;31m---------------------------------------------------------------------------\u001b[0m",
            "\u001b[0;31mValueError\u001b[0m                                Traceback (most recent call last)",
            "\u001b[0;32m<ipython-input-1-97ad58f49cfa>\u001b[0m in \u001b[0;36m<module>\u001b[0;34m()\u001b[0m\n\u001b[1;32m     10\u001b[0m ])\n\u001b[1;32m     11\u001b[0m \u001b[0mZ\u001b[0m \u001b[0;34m=\u001b[0m \u001b[0mnp\u001b[0m\u001b[0;34m.\u001b[0m\u001b[0mdot\u001b[0m\u001b[0;34m(\u001b[0m\u001b[0mA\u001b[0m\u001b[0;34m,\u001b[0m\u001b[0mB\u001b[0m\u001b[0;34m)\u001b[0m\u001b[0;34m\u001b[0m\u001b[0;34m\u001b[0m\u001b[0m\n\u001b[0;32m---> 12\u001b[0;31m \u001b[0;32mif\u001b[0m \u001b[0mZ\u001b[0m \u001b[0;34m==\u001b[0m \u001b[0;32mTrue\u001b[0m\u001b[0;34m:\u001b[0m\u001b[0;34m\u001b[0m\u001b[0;34m\u001b[0m\u001b[0m\n\u001b[0m\u001b[1;32m     13\u001b[0m     \u001b[0mprint\u001b[0m\u001b[0;34m(\u001b[0m\u001b[0mZ\u001b[0m\u001b[0;34m)\u001b[0m\u001b[0;34m\u001b[0m\u001b[0;34m\u001b[0m\u001b[0m\n\u001b[1;32m     14\u001b[0m \u001b[0;32melse\u001b[0m\u001b[0;34m:\u001b[0m\u001b[0;34m\u001b[0m\u001b[0;34m\u001b[0m\u001b[0m\n",
            "\u001b[0;31mValueError\u001b[0m: The truth value of an array with more than one element is ambiguous. Use a.any() or a.all()"
          ]
        }
      ]
    },
    {
      "cell_type": "markdown",
      "source": [
        "Задание 1.14"
      ],
      "metadata": {
        "id": "5CG7JnXh5MpJ"
      }
    },
    {
      "cell_type": "code",
      "source": [
        "import numpy as np\n",
        "z = np.arange(11)\n",
        "print(z)\n",
        "z[(z>=4) & (z<=8)] *= -1\n",
        "print(z)\n",
        "\n",
        "b = np.array([-10,-5,0,5,10])\n",
        "b[b==5]=-5\n",
        "print(b)"
      ],
      "metadata": {
        "colab": {
          "base_uri": "https://localhost:8080/"
        },
        "id": "AVzYj9Q95Mdm",
        "outputId": "143c259c-2584-41b9-88d2-a8d78b46f336"
      },
      "execution_count": null,
      "outputs": [
        {
          "output_type": "stream",
          "name": "stdout",
          "text": [
            "[ 0  1  2  3  4  5  6  7  8  9 10]\n",
            "[ 0  1  2  3 -4 -5 -6 -7 -8  9 10]\n",
            "[-10  -5   0  -5  10]\n"
          ]
        }
      ]
    },
    {
      "cell_type": "markdown",
      "source": [
        "Задание 1.15"
      ],
      "metadata": {
        "id": "BFheVs6QEw6L"
      }
    },
    {
      "cell_type": "code",
      "source": [
        "import numpy as np\n",
        "X = np.array([[1, 0, 1], [2, 0, 2], [3, 0, 3], [4, 0, 4]])\n",
        "print(X)\n",
        "diag = np.diagonal(X)\n",
        "x = diag[diag!=0]\n",
        "x = np.prod(x)\n",
        "print(x)"
      ],
      "metadata": {
        "colab": {
          "base_uri": "https://localhost:8080/"
        },
        "id": "eBRUzD5yExE7",
        "outputId": "35378b26-9f9a-41dd-b674-b02a3bc7032d"
      },
      "execution_count": null,
      "outputs": [
        {
          "output_type": "stream",
          "name": "stdout",
          "text": [
            "[[1 0 1]\n",
            " [2 0 2]\n",
            " [3 0 3]\n",
            " [4 0 4]]\n",
            "3\n"
          ]
        }
      ]
    },
    {
      "cell_type": "markdown",
      "source": [
        "Задание 1.16"
      ],
      "metadata": {
        "id": "T4jCi0pdHggZ"
      }
    },
    {
      "cell_type": "code",
      "source": [
        "import numpy as np\n",
        "n = int(input(\"n=\"))\n",
        "z = np.zeros(n)\n",
        "print(z)"
      ],
      "metadata": {
        "colab": {
          "base_uri": "https://localhost:8080/"
        },
        "id": "BFDq21jfHgu7",
        "outputId": "2108492c-ed78-44da-b5c5-d91efb437466"
      },
      "execution_count": null,
      "outputs": [
        {
          "output_type": "stream",
          "name": "stdout",
          "text": [
            "n=5\n",
            "[0. 0. 0. 0. 0.]\n"
          ]
        }
      ]
    },
    {
      "cell_type": "markdown",
      "source": [
        "Задание 1.17"
      ],
      "metadata": {
        "id": "iiCUIU-pH6th"
      }
    },
    {
      "cell_type": "code",
      "source": [
        "import numpy as np\n",
        "z = np.zeros([10,10])\n",
        "z = z.size*z.itemsize\n",
        "print(z)\n",
        "z = np.array([1,2,3], dtype=np.float64)\n",
        "z = z.size*z.itemsize\n",
        "print(z)"
      ],
      "metadata": {
        "colab": {
          "base_uri": "https://localhost:8080/"
        },
        "id": "F9YzQwKeH7tI",
        "outputId": "57d9a389-ca67-4847-bfce-646a9bf7edbe"
      },
      "execution_count": null,
      "outputs": [
        {
          "output_type": "stream",
          "name": "stdout",
          "text": [
            "800\n",
            "24\n"
          ]
        }
      ]
    },
    {
      "cell_type": "markdown",
      "source": [
        "Задание 1.18"
      ],
      "metadata": {
        "id": "TrdMq2QvJTSu"
      }
    },
    {
      "cell_type": "code",
      "source": [
        "import numpy as np\n",
        "n = int(input(\"n=\"))\n",
        "x = int(input(\"x=\"))\n",
        "z = np.zeros(n)\n",
        "z[x] = 1\n",
        "print(z)\n"
      ],
      "metadata": {
        "colab": {
          "base_uri": "https://localhost:8080/"
        },
        "id": "kxsFIcsHJg2J",
        "outputId": "cbd0f184-aaf1-41dd-c9ce-d63313a85f98"
      },
      "execution_count": null,
      "outputs": [
        {
          "output_type": "stream",
          "name": "stdout",
          "text": [
            "n=10\n",
            "x=4\n",
            "[0. 0. 0. 0. 1. 0. 0. 0. 0. 0.]\n"
          ]
        }
      ]
    },
    {
      "cell_type": "markdown",
      "source": [
        "Задание 1.19"
      ],
      "metadata": {
        "id": "eGi0wFglJ78r"
      }
    },
    {
      "cell_type": "code",
      "source": [
        "import numpy as np\n",
        "n = int(input(\"n=\"))\n",
        "m = int(input(\"m=\"))\n",
        "z = np.arange(n,m+1)\n",
        "print(z)"
      ],
      "metadata": {
        "colab": {
          "base_uri": "https://localhost:8080/"
        },
        "id": "-Ck-yioPJ9Me",
        "outputId": "f1f57d70-9a60-467b-fe7d-dc9df0c306ff"
      },
      "execution_count": null,
      "outputs": [
        {
          "output_type": "stream",
          "name": "stdout",
          "text": [
            "n=10\n",
            "m=50\n",
            "[10 11 12 13 14 15 16 17 18 19 20 21 22 23 24 25 26 27 28 29 30 31 32 33\n",
            " 34 35 36 37 38 39 40 41 42 43 44 45 46 47 48 49 50]\n"
          ]
        }
      ]
    },
    {
      "cell_type": "markdown",
      "source": [
        "Задание 1.20"
      ],
      "metadata": {
        "id": "VKl1XRItKrzl"
      }
    },
    {
      "cell_type": "code",
      "source": [
        "import numpy as np\n",
        "z = np.array([1, 2, 3, 4])\n",
        "np.flip(z)"
      ],
      "metadata": {
        "colab": {
          "base_uri": "https://localhost:8080/"
        },
        "id": "202IY33fK2Ip",
        "outputId": "1bef4c83-7097-4397-bcbb-d9cd23db10e5"
      },
      "execution_count": null,
      "outputs": [
        {
          "output_type": "execute_result",
          "data": {
            "text/plain": [
              "array([4, 3, 2, 1])"
            ]
          },
          "metadata": {},
          "execution_count": 95
        }
      ]
    },
    {
      "cell_type": "markdown",
      "source": [
        "Задание 1.21"
      ],
      "metadata": {
        "id": "wISkb4DfLRgk"
      }
    },
    {
      "cell_type": "code",
      "source": [
        "import numpy as np\n",
        "n = int(input(\"n=\"))\n",
        "m = int(input(\"m=\"))\n",
        "k = int(input(\"k=\"))\n",
        "z = np.arange(n).reshape(m,k)\n",
        "print(z)"
      ],
      "metadata": {
        "colab": {
          "base_uri": "https://localhost:8080/"
        },
        "id": "TKNhGEagLSmU",
        "outputId": "c0df6023-f6a9-41bb-c758-ff57376a984f"
      },
      "execution_count": null,
      "outputs": [
        {
          "output_type": "stream",
          "name": "stdout",
          "text": [
            "n=9\n",
            "m=3\n",
            "k=3\n",
            "[[0 1 2]\n",
            " [3 4 5]\n",
            " [6 7 8]]\n"
          ]
        }
      ]
    },
    {
      "cell_type": "markdown",
      "source": [
        "Задание 1.22"
      ],
      "metadata": {
        "id": "UVec_QOmM3xj"
      }
    },
    {
      "cell_type": "code",
      "source": [
        "import numpy as np\n",
        "z = np.array([1, 0, 2, 0, 3, 0, 4])\n",
        "NoneZeros = np.nonzero(z)\n",
        "print(NoneZeros)"
      ],
      "metadata": {
        "colab": {
          "base_uri": "https://localhost:8080/"
        },
        "id": "yhSfcYCLM35n",
        "outputId": "a5334e4a-3240-4667-cc7c-4f8a8234b8bd"
      },
      "execution_count": null,
      "outputs": [
        {
          "output_type": "stream",
          "name": "stdout",
          "text": [
            "(array([0, 2, 4, 6]),)\n"
          ]
        }
      ]
    },
    {
      "cell_type": "markdown",
      "source": [
        "Задание 1.23"
      ],
      "metadata": {
        "id": "4jQqrgomNMhN"
      }
    },
    {
      "cell_type": "code",
      "source": [
        "import numpy as np\n",
        "n = int(input(\"n=\"))\n",
        "z = np.eye(n)\n",
        "print(z)"
      ],
      "metadata": {
        "colab": {
          "base_uri": "https://localhost:8080/"
        },
        "id": "5EyDrS3oNNzB",
        "outputId": "099a5bad-2439-46f5-b7ff-0ee1946204a8"
      },
      "execution_count": null,
      "outputs": [
        {
          "output_type": "stream",
          "name": "stdout",
          "text": [
            "n=3\n",
            "[[1. 0. 0.]\n",
            " [0. 1. 0.]\n",
            " [0. 0. 1.]]\n"
          ]
        }
      ]
    },
    {
      "cell_type": "markdown",
      "source": [
        "Задание 1.24"
      ],
      "metadata": {
        "id": "2WLCQFrdNlbP"
      }
    },
    {
      "cell_type": "code",
      "source": [
        "import numpy as np\n",
        "n = int(input(\"n=\"))\n",
        "m = int(input(\"m=\"))\n",
        "l = int(input(\"l=\"))\n",
        "np.random.seed(42)\n",
        "z = np.array(n*m*l)\n",
        "np.random.rand(z).reshape(n*m,l)\n",
        "\n"
      ],
      "metadata": {
        "colab": {
          "base_uri": "https://localhost:8080/"
        },
        "id": "XGVXXpsoNmvm",
        "outputId": "128b1fd6-dbae-4db0-f137-6889b5a197a2"
      },
      "execution_count": null,
      "outputs": [
        {
          "name": "stdout",
          "output_type": "stream",
          "text": [
            "n=2\n",
            "m=2\n",
            "l=2\n"
          ]
        },
        {
          "output_type": "execute_result",
          "data": {
            "text/plain": [
              "array([[0.37454012, 0.95071431],\n",
              "       [0.73199394, 0.59865848],\n",
              "       [0.15601864, 0.15599452],\n",
              "       [0.05808361, 0.86617615]])"
            ]
          },
          "metadata": {},
          "execution_count": 115
        }
      ]
    },
    {
      "cell_type": "markdown",
      "source": [
        "Задание 1.25"
      ],
      "metadata": {
        "id": "MylSRhnxOmUf"
      }
    },
    {
      "cell_type": "code",
      "source": [
        "import numpy as np\n",
        "n = int(input(\"n=\"))\n",
        "m = int(input(\"m=\"))\n",
        "np.random.seed(42)\n",
        "z = np.random.rand(n*m)\n",
        "max = np.min(z)\n",
        "min = np.max(z)\n",
        "print(max,'\\n',min)"
      ],
      "metadata": {
        "colab": {
          "base_uri": "https://localhost:8080/"
        },
        "id": "1DqF5iATOkqo",
        "outputId": "fca64943-d2af-4e6e-ba03-012e358cf35b"
      },
      "execution_count": null,
      "outputs": [
        {
          "output_type": "stream",
          "name": "stdout",
          "text": [
            "n=10\n",
            "m=10\n",
            "0.005522117123602399 \n",
            " 0.9868869366005173\n"
          ]
        }
      ]
    }
  ]
}